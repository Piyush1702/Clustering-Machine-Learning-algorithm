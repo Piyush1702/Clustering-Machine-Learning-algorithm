{
 "cells": [
  {
   "cell_type": "code",
   "execution_count": 29,
   "id": "0e4c9f54",
   "metadata": {},
   "outputs": [],
   "source": [
    "import numpy as np\n",
    "import pandas as pd\n",
    "from sklearn.datasets import make_blobs\n",
    "import matplotlib.pyplot as plt"
   ]
  },
  {
   "cell_type": "code",
   "execution_count": 32,
   "id": "a91dbe28",
   "metadata": {
    "scrolled": true
   },
   "outputs": [
    {
     "data": {
      "text/plain": [
       "array([[ -0.62290422, -10.24903216,   4.69025022],\n",
       "       [  7.15032814,  -1.89102864,  -3.58220411],\n",
       "       [  2.05014023,  -2.93723312,  -1.25826759],\n",
       "       ...,\n",
       "       [ -1.39825002,  -7.69376159,   2.74206462],\n",
       "       [  0.19398986,  -7.80267271,   3.59379172],\n",
       "       [  1.18614222,   0.03628681,  -0.80216912]])"
      ]
     },
     "execution_count": 32,
     "metadata": {},
     "output_type": "execute_result"
    }
   ],
   "source": [
    "X,y= make_blobs(n_samples=800, n_features=3, centers=4)\n",
    "X"
   ]
  },
  {
   "cell_type": "code",
   "execution_count": 35,
   "id": "62a2491d",
   "metadata": {},
   "outputs": [
    {
     "data": {
      "text/plain": [
       "[44307.29427182619,\n",
       " 44307.29427182619,\n",
       " 44307.29427182619,\n",
       " 44307.29427182619,\n",
       " 44307.29427182619,\n",
       " 44307.29427182619,\n",
       " 44307.29427182619,\n",
       " 44307.29427182619,\n",
       " 44307.29427182619,\n",
       " 44307.29427182619]"
      ]
     },
     "execution_count": 35,
     "metadata": {},
     "output_type": "execute_result"
    }
   ],
   "source": [
    "from sklearn.cluster import KMeans\n",
    "wcss_list =[] \n",
    "\n",
    "for i in range(1,11):\n",
    "    kmeans=KMeans(n_clusters=1, init='k-means++', random_state=42)\n",
    "    kmeans.fit(X)\n",
    "    wcss_list.append(kmeans.inertia_)\n",
    "wcss_list"
   ]
  },
  {
   "cell_type": "code",
   "execution_count": 36,
   "id": "c232c307",
   "metadata": {},
   "outputs": [
    {
     "data": {
      "text/plain": [
       "Text(0, 0.5, 'wcss')"
      ]
     },
     "execution_count": 36,
     "metadata": {},
     "output_type": "execute_result"
    },
    {
     "data": {
      "image/png": "[encoded data removed]",
      "text/plain": [
       "<Figure size 432x288 with 1 Axes>"
      ]
     },
     "metadata": {
      "needs_background": "light"
     },
     "output_type": "display_data"
    }
   ],
   "source": [
    "plt.plot(range(1,11), wcss_list)\n",
    "plt.title('elbow method')\n",
    "plt.xlabel('number of clusters')\n",
    "plt.ylabel('wcss')"
   ]
  },
  {
   "cell_type": "code",
   "execution_count": null,
   "id": "d7195d18",
   "metadata": {},
   "outputs": [],
   "source": []
  }
 ],
 "metadata": {
  "kernelspec": {
   "display_name": "Python 3 (ipykernel)",
   "language": "python",
   "name": "python3"
  },
  "language_info": {
   "codemirror_mode": {
    "name": "ipython",
    "version": 3
   },
   "file_extension": ".py",
   "mimetype": "text/x-python",
   "name": "python",
   "nbconvert_exporter": "python",
   "pygments_lexer": "ipython3",
   "version": "3.9.13"
  }
 },
 "nbformat": 4,
 "nbformat_minor": 5
}
